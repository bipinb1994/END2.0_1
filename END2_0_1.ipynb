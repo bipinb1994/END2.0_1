{
  "nbformat": 4,
  "nbformat_minor": 0,
  "metadata": {
    "colab": {
      "name": "Copy of END2.0 Session 1.ipynb",
      "provenance": [],
      "include_colab_link": true
    },
    "kernelspec": {
      "name": "python3",
      "display_name": "Python 3"
    },
    "language_info": {
      "name": "python"
    }
  },
  "cells": [
    {
      "cell_type": "markdown",
      "metadata": {
        "id": "view-in-github",
        "colab_type": "text"
      },
      "source": [
        "<a href=\"https://colab.research.google.com/github/bipinb1994/END2.0_1/blob/main/END2_0_1.ipynb\" target=\"_parent\"><img src=\"https://colab.research.google.com/assets/colab-badge.svg\" alt=\"Open In Colab\"/></a>"
      ]
    },
    {
      "cell_type": "code",
      "metadata": {
        "colab": {
          "base_uri": "https://localhost:8080/"
        },
        "id": "GC_6PeobwwkH",
        "outputId": "235a4ff2-5144-48bc-9d64-034cd135d932"
      },
      "source": [
        "import torch\n",
        "from torch.autograd import Variable\n",
        "import torch.nn as nn\n",
        "import torch.nn.functional as F\n",
        "import torch.optim as optim\n",
        "import numpy as np\n",
        "import matplotlib.pyplot as plt\n",
        "%matplotlib inline\n",
        "torch.manual_seed(2)"
      ],
      "execution_count": 5,
      "outputs": [
        {
          "output_type": "execute_result",
          "data": {
            "text/plain": [
              "<torch._C.Generator at 0x7f653a5118d0>"
            ]
          },
          "metadata": {
            "tags": []
          },
          "execution_count": 5
        }
      ]
    },
    {
      "cell_type": "code",
      "metadata": {
        "id": "bL64bMTkw2GP"
      },
      "source": [
        "X = torch.Tensor([[0,0], [0,1], [1,0], [1,1]])\n",
        "Y = torch.Tensor([0, 1, 1, 0]).view(-1,1)"
      ],
      "execution_count": 6,
      "outputs": []
    },
    {
      "cell_type": "code",
      "metadata": {
        "id": "aC82kEAIw3Wf"
      },
      "source": [
        "class XOR(nn.Module):\n",
        "    def __init__(self, input_dim = 2, output_dim=1):\n",
        "        super(XOR, self).__init__()\n",
        "        self.lin1 = nn.Linear(input_dim, 11,bias=True)\n",
        "        self.lin2 = nn.Linear(11, output_dim,bias=False)\n",
        "    \n",
        "    def forward(self, x):\n",
        "        x = self.lin1(x)\n",
        "        x = F.tanh(x)\n",
        "        x = self.lin2(x)\n",
        "        x = F.tanh(x)\n",
        "        return x"
      ],
      "execution_count": 7,
      "outputs": []
    },
    {
      "cell_type": "code",
      "metadata": {
        "colab": {
          "base_uri": "https://localhost:8080/"
        },
        "id": "8gQIQExYw65K",
        "outputId": "d740f5d7-05dd-4bd9-ae83-9e005a2009ad"
      },
      "source": [
        "model = XOR()\n",
        "print(model)\n",
        "from torchsummary import summary\n",
        "summary(model, (2,2))"
      ],
      "execution_count": 8,
      "outputs": [
        {
          "output_type": "stream",
          "text": [
            "XOR(\n",
            "  (lin1): Linear(in_features=2, out_features=11, bias=True)\n",
            "  (lin2): Linear(in_features=11, out_features=1, bias=False)\n",
            ")\n",
            "----------------------------------------------------------------\n",
            "        Layer (type)               Output Shape         Param #\n",
            "================================================================\n",
            "            Linear-1                [-1, 2, 11]              33\n",
            "            Linear-2                 [-1, 2, 1]              11\n",
            "================================================================\n",
            "Total params: 44\n",
            "Trainable params: 44\n",
            "Non-trainable params: 0\n",
            "----------------------------------------------------------------\n",
            "Input size (MB): 0.00\n",
            "Forward/backward pass size (MB): 0.00\n",
            "Params size (MB): 0.00\n",
            "Estimated Total Size (MB): 0.00\n",
            "----------------------------------------------------------------\n"
          ],
          "name": "stdout"
        },
        {
          "output_type": "stream",
          "text": [
            "/usr/local/lib/python3.7/dist-packages/torch/nn/functional.py:1698: UserWarning: nn.functional.tanh is deprecated. Use torch.tanh instead.\n",
            "  warnings.warn(\"nn.functional.tanh is deprecated. Use torch.tanh instead.\")\n"
          ],
          "name": "stderr"
        }
      ]
    },
    {
      "cell_type": "code",
      "metadata": {
        "id": "yeotEq19x6XF"
      },
      "source": [
        "def weights_init(model):\n",
        "    for m in model.modules():\n",
        "        if isinstance(m, nn.Linear):\n",
        "            # initialize the weight tensor, here we use a normal distribution\n",
        "            m.weight.data.normal_(0, 1)\n",
        "\n",
        "weights_init(model)"
      ],
      "execution_count": 9,
      "outputs": []
    },
    {
      "cell_type": "code",
      "metadata": {
        "id": "WrD_sNzLx78e"
      },
      "source": [
        "loss_func = nn.L1Loss()"
      ],
      "execution_count": 10,
      "outputs": []
    },
    {
      "cell_type": "code",
      "metadata": {
        "id": "-zvbrMd2x_lA"
      },
      "source": [
        "optimizer = optim.SGD(model.parameters(), lr=0.02, momentum=0.9)\n"
      ],
      "execution_count": 11,
      "outputs": []
    },
    {
      "cell_type": "code",
      "metadata": {
        "colab": {
          "base_uri": "https://localhost:8080/"
        },
        "id": "q7tWa3D7yA5X",
        "outputId": "10fc05dd-d266-46c4-b250-3ac912a389cb"
      },
      "source": [
        "epochs = 2001\n",
        "steps = X.size(0)\n",
        "for i in range(epochs):\n",
        "    for j in range(steps):\n",
        "        data_point = np.random.randint(X.size(0))\n",
        "        x_var = Variable(X[data_point], requires_grad=False)\n",
        "        y_var = Variable(Y[data_point], requires_grad=False)\n",
        "        \n",
        "        optimizer.zero_grad()\n",
        "        y_hat = model(x_var)\n",
        "        loss = loss_func.forward(y_hat, y_var)\n",
        "        loss.backward()\n",
        "        optimizer.step()\n",
        "        \n",
        "    if i % 50 == 0:\n",
        "        print( \"Epoch: {0}, Loss: {1}, \".format(i, loss.data.numpy()))"
      ],
      "execution_count": 12,
      "outputs": [
        {
          "output_type": "stream",
          "text": [
            "/usr/local/lib/python3.7/dist-packages/torch/nn/functional.py:1698: UserWarning: nn.functional.tanh is deprecated. Use torch.tanh instead.\n",
            "  warnings.warn(\"nn.functional.tanh is deprecated. Use torch.tanh instead.\")\n"
          ],
          "name": "stderr"
        },
        {
          "output_type": "stream",
          "text": [
            "Epoch: 0, Loss: 0.2679307162761688, \n",
            "Epoch: 50, Loss: 9.399652481079102e-05, \n",
            "Epoch: 100, Loss: 0.9997154474258423, \n",
            "Epoch: 150, Loss: 0.9997116327285767, \n",
            "Epoch: 200, Loss: 0.9999395608901978, \n",
            "Epoch: 250, Loss: 0.0002276897430419922, \n",
            "Epoch: 300, Loss: 0.9996963739395142, \n",
            "Epoch: 350, Loss: 0.9996822476387024, \n",
            "Epoch: 400, Loss: 9.864568710327148e-05, \n",
            "Epoch: 450, Loss: 0.0002060532569885254, \n",
            "Epoch: 500, Loss: 0.000202178955078125, \n",
            "Epoch: 550, Loss: 9.965896606445312e-05, \n",
            "Epoch: 600, Loss: 0.0001990199089050293, \n",
            "Epoch: 650, Loss: 0.9999473690986633, \n",
            "Epoch: 700, Loss: 0.9996150732040405, \n",
            "Epoch: 750, Loss: 0.00010573863983154297, \n",
            "Epoch: 800, Loss: 0.9995803236961365, \n",
            "Epoch: 850, Loss: 0.00020271539688110352, \n",
            "Epoch: 900, Loss: 0.00020521879196166992, \n",
            "Epoch: 950, Loss: 0.00021070241928100586, \n",
            "Epoch: 1000, Loss: 0.0001271367073059082, \n",
            "Epoch: 1050, Loss: 0.00013005733489990234, \n",
            "Epoch: 1100, Loss: 0.00021642446517944336, \n",
            "Epoch: 1150, Loss: 0.00021970272064208984, \n",
            "Epoch: 1200, Loss: 0.00014847517013549805, \n",
            "Epoch: 1250, Loss: 0.00016069412231445312, \n",
            "Epoch: 1300, Loss: 0.9990746974945068, \n",
            "Epoch: 1350, Loss: 0.00018650293350219727, \n",
            "Epoch: 1400, Loss: 0.9999277591705322, \n",
            "Epoch: 1450, Loss: 0.9999215602874756, \n",
            "Epoch: 1500, Loss: 0.9999151229858398, \n",
            "Epoch: 1550, Loss: 0.9965586066246033, \n",
            "Epoch: 1600, Loss: 0.9998540282249451, \n",
            "Epoch: 1650, Loss: 0.07017266750335693, \n",
            "Epoch: 1700, Loss: 0.9995937347412109, \n",
            "Epoch: 1750, Loss: 0.013110995292663574, \n",
            "Epoch: 1800, Loss: 0.006533563137054443, \n",
            "Epoch: 1850, Loss: 0.9982495903968811, \n",
            "Epoch: 1900, Loss: 0.006928086280822754, \n",
            "Epoch: 1950, Loss: 0.006513118743896484, \n",
            "Epoch: 2000, Loss: 0.9978524446487427, \n"
          ],
          "name": "stdout"
        }
      ]
    },
    {
      "cell_type": "code",
      "metadata": {
        "id": "QV0dIdveyCRi"
      },
      "source": [
        ""
      ],
      "execution_count": 12,
      "outputs": []
    }
  ]
}