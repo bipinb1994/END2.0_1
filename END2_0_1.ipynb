{
  "nbformat": 4,
  "nbformat_minor": 0,
  "metadata": {
    "colab": {
      "name": "Copy of END2.0 Session 1.ipynb",
      "provenance": [],
      "include_colab_link": true
    },
    "kernelspec": {
      "name": "python3",
      "display_name": "Python 3"
    },
    "language_info": {
      "name": "python"
    }
  },
  "cells": [
    {
      "cell_type": "markdown",
      "metadata": {
        "id": "view-in-github",
        "colab_type": "text"
      },
      "source": [
        "<a href=\"https://colab.research.google.com/github/bipinb1994/END2.0_1/blob/main/END2_0_1.ipynb\" target=\"_parent\"><img src=\"https://colab.research.google.com/assets/colab-badge.svg\" alt=\"Open In Colab\"/></a>"
      ]
    },
    {
      "cell_type": "code",
      "metadata": {
        "colab": {
          "base_uri": "https://localhost:8080/"
        },
        "id": "GC_6PeobwwkH",
        "outputId": "4b96a093-761b-4528-c7e0-0794b416b1ef"
      },
      "source": [
        "import torch\n",
        "from torch.autograd import Variable\n",
        "import torch.nn as nn\n",
        "import torch.nn.functional as F\n",
        "import torch.optim as optim\n",
        "import numpy as np\n",
        "import matplotlib.pyplot as plt\n",
        "%matplotlib inline\n",
        "torch.manual_seed(2)"
      ],
      "execution_count": 1,
      "outputs": [
        {
          "output_type": "execute_result",
          "data": {
            "text/plain": [
              "<torch._C.Generator at 0x7f078b89e710>"
            ]
          },
          "metadata": {
            "tags": []
          },
          "execution_count": 1
        }
      ]
    },
    {
      "cell_type": "code",
      "metadata": {
        "id": "bL64bMTkw2GP"
      },
      "source": [
        "X = torch.Tensor([[0,0], [0,1], [1,0], [1,1]])\n",
        "Y = torch.Tensor([0, 1, 1, 0]).view(-1,1)"
      ],
      "execution_count": 2,
      "outputs": []
    },
    {
      "cell_type": "code",
      "metadata": {
        "id": "aC82kEAIw3Wf"
      },
      "source": [
        "class XOR(nn.Module):\n",
        "    def __init__(self, input_dim = 2, output_dim=1):\n",
        "        super(XOR, self).__init__()\n",
        "        self.lin1 = nn.Linear(input_dim, 11)\n",
        "        self.lin2 = nn.Linear(11, output_dim)\n",
        "    \n",
        "    def forward(self, x):\n",
        "        x = self.lin1(x)\n",
        "        x = F.tanh(x)\n",
        "        x = self.lin2(x)\n",
        "        x = F.tanh(x)\n",
        "        return x"
      ],
      "execution_count": 3,
      "outputs": []
    },
    {
      "cell_type": "code",
      "metadata": {
        "colab": {
          "base_uri": "https://localhost:8080/"
        },
        "id": "8gQIQExYw65K",
        "outputId": "bb915606-a0f9-43c2-d0cf-d57f12c1dc60"
      },
      "source": [
        "model = XOR()\n",
        "print(model)\n",
        "from torchsummary import summary\n",
        "summary(model, (2,2))"
      ],
      "execution_count": 4,
      "outputs": [
        {
          "output_type": "stream",
          "text": [
            "XOR(\n",
            "  (lin1): Linear(in_features=2, out_features=11, bias=True)\n",
            "  (lin2): Linear(in_features=11, out_features=1, bias=True)\n",
            ")\n",
            "----------------------------------------------------------------\n",
            "        Layer (type)               Output Shape         Param #\n",
            "================================================================\n",
            "            Linear-1                [-1, 2, 11]              33\n",
            "            Linear-2                 [-1, 2, 1]              12\n",
            "================================================================\n",
            "Total params: 45\n",
            "Trainable params: 45\n",
            "Non-trainable params: 0\n",
            "----------------------------------------------------------------\n",
            "Input size (MB): 0.00\n",
            "Forward/backward pass size (MB): 0.00\n",
            "Params size (MB): 0.00\n",
            "Estimated Total Size (MB): 0.00\n",
            "----------------------------------------------------------------\n"
          ],
          "name": "stdout"
        },
        {
          "output_type": "stream",
          "text": [
            "/usr/local/lib/python3.7/dist-packages/torch/nn/functional.py:1698: UserWarning: nn.functional.tanh is deprecated. Use torch.tanh instead.\n",
            "  warnings.warn(\"nn.functional.tanh is deprecated. Use torch.tanh instead.\")\n"
          ],
          "name": "stderr"
        }
      ]
    },
    {
      "cell_type": "code",
      "metadata": {
        "id": "yeotEq19x6XF"
      },
      "source": [
        "def weights_init(model):\n",
        "    for m in model.modules():\n",
        "        if isinstance(m, nn.Linear):\n",
        "            # initialize the weight tensor, here we use a normal distribution\n",
        "            m.weight.data.normal_(0, 1)\n",
        "\n",
        "weights_init(model)"
      ],
      "execution_count": 5,
      "outputs": []
    },
    {
      "cell_type": "code",
      "metadata": {
        "id": "WrD_sNzLx78e"
      },
      "source": [
        "loss_func = nn.L1Loss()"
      ],
      "execution_count": 6,
      "outputs": []
    },
    {
      "cell_type": "code",
      "metadata": {
        "id": "-zvbrMd2x_lA"
      },
      "source": [
        "optimizer = optim.SGD(model.parameters(), lr=0.02, momentum=0.9)\n"
      ],
      "execution_count": 7,
      "outputs": []
    },
    {
      "cell_type": "code",
      "metadata": {
        "colab": {
          "base_uri": "https://localhost:8080/"
        },
        "id": "q7tWa3D7yA5X",
        "outputId": "86e1cb5e-28cd-4658-a06c-50182ef6dff9"
      },
      "source": [
        "epochs = 2001\n",
        "steps = X.size(0)\n",
        "for i in range(epochs):\n",
        "    for j in range(steps):\n",
        "        data_point = np.random.randint(X.size(0))\n",
        "        x_var = Variable(X[data_point], requires_grad=False)\n",
        "        y_var = Variable(Y[data_point], requires_grad=False)\n",
        "        \n",
        "        optimizer.zero_grad()\n",
        "        y_hat = model(x_var)\n",
        "        loss = loss_func.forward(y_hat, y_var)\n",
        "        loss.backward()\n",
        "        optimizer.step()\n",
        "        \n",
        "    if i % 50 == 0:\n",
        "        print( \"Epoch: {0}, Loss: {1}, \".format(i, loss.data.numpy()))"
      ],
      "execution_count": 8,
      "outputs": [
        {
          "output_type": "stream",
          "text": [
            "/usr/local/lib/python3.7/dist-packages/torch/nn/functional.py:1698: UserWarning: nn.functional.tanh is deprecated. Use torch.tanh instead.\n",
            "  warnings.warn(\"nn.functional.tanh is deprecated. Use torch.tanh instead.\")\n"
          ],
          "name": "stderr"
        },
        {
          "output_type": "stream",
          "text": [
            "Epoch: 0, Loss: 0.04657721519470215, \n",
            "Epoch: 50, Loss: 0.3211226761341095, \n",
            "Epoch: 100, Loss: 0.004133880138397217, \n",
            "Epoch: 150, Loss: 0.03322935104370117, \n",
            "Epoch: 200, Loss: 0.999118447303772, \n",
            "Epoch: 250, Loss: 0.007858216762542725, \n",
            "Epoch: 300, Loss: 0.016014575958251953, \n",
            "Epoch: 350, Loss: 0.01016169786453247, \n",
            "Epoch: 400, Loss: 0.011119484901428223, \n",
            "Epoch: 450, Loss: 0.9987369179725647, \n",
            "Epoch: 500, Loss: 0.0049849748611450195, \n",
            "Epoch: 550, Loss: 0.006324946880340576, \n",
            "Epoch: 600, Loss: 0.9988793730735779, \n",
            "Epoch: 650, Loss: 0.0062157511711120605, \n",
            "Epoch: 700, Loss: 0.49764302372932434, \n",
            "Epoch: 750, Loss: 0.00397944450378418, \n",
            "Epoch: 800, Loss: 0.0053043365478515625, \n",
            "Epoch: 850, Loss: 0.021666472777724266, \n",
            "Epoch: 900, Loss: 0.0036329030990600586, \n",
            "Epoch: 950, Loss: 0.0039324164390563965, \n",
            "Epoch: 1000, Loss: 0.003611624240875244, \n",
            "Epoch: 1050, Loss: 0.0022652149200439453, \n",
            "Epoch: 1100, Loss: 0.0024961233139038086, \n",
            "Epoch: 1150, Loss: 0.9990838766098022, \n",
            "Epoch: 1200, Loss: 0.9989244341850281, \n",
            "Epoch: 1250, Loss: 0.0025616884231567383, \n",
            "Epoch: 1300, Loss: 0.9990366697311401, \n",
            "Epoch: 1350, Loss: 0.999106764793396, \n",
            "Epoch: 1400, Loss: 0.0017071366310119629, \n",
            "Epoch: 1450, Loss: 0.0033458471298217773, \n",
            "Epoch: 1500, Loss: 0.37497103214263916, \n",
            "Epoch: 1550, Loss: 0.08748449385166168, \n",
            "Epoch: 1600, Loss: 0.23977406322956085, \n",
            "Epoch: 1650, Loss: 0.0016471147537231445, \n",
            "Epoch: 1700, Loss: 0.0032218098640441895, \n",
            "Epoch: 1750, Loss: 0.9991545677185059, \n",
            "Epoch: 1800, Loss: 0.0015267729759216309, \n",
            "Epoch: 1850, Loss: 0.0013838410377502441, \n",
            "Epoch: 1900, Loss: 0.9993970990180969, \n",
            "Epoch: 1950, Loss: 0.20818552374839783, \n",
            "Epoch: 2000, Loss: 0.9993545413017273, \n"
          ],
          "name": "stdout"
        }
      ]
    },
    {
      "cell_type": "code",
      "metadata": {
        "id": "QV0dIdveyCRi"
      },
      "source": [
        ""
      ],
      "execution_count": 8,
      "outputs": []
    }
  ]
}